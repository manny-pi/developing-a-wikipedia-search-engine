{
 "cells": [
  {
   "cell_type": "code",
   "execution_count": 56,
   "metadata": {},
   "outputs": [],
   "source": [
    "import wikipedia as wiki\n",
    "import scrapy\n",
    "\n",
    "import pandas as pd\n",
    "import numpy as np\n",
    "import hashlib \n",
    "\n",
    "import networkx as nx\n",
    "from sklearn import feature_extraction"
   ]
  },
  {
   "attachments": {},
   "cell_type": "markdown",
   "metadata": {},
   "source": [
    "# Data Collection"
   ]
  },
  {
   "attachments": {},
   "cell_type": "markdown",
   "metadata": {},
   "source": [
    "## Get the article titles"
   ]
  },
  {
   "cell_type": "code",
   "execution_count": 68,
   "metadata": {},
   "outputs": [
    {
     "name": "stdout",
     "output_type": "stream",
     "text": [
      "1: 'LeBron James'\n",
      "2: 'Bronny James'\n",
      "3: 'List of career achievements by LeBron James'\n",
      "4: 'The LeBrons'\n",
      "5: 'House Party (2023 film)'\n",
      "6: 'The Decision (TV program)'\n",
      "7: '2020 NBA Finals'\n",
      "8: 'Miami Heat'\n",
      "9: 'Los Angeles Lakers'\n",
      "10: 'Space Jam: A New Legacy'\n",
      "11: 'Luka Dončić'\n",
      "12: '2021–22 NBA season'\n",
      "13: '2015–16 Cleveland Cavaliers season'\n",
      "14: '2017 NBA Finals'\n",
      "15: '2018–19 Los Angeles Lakers season'\n",
      "16: '2013 NBA Finals'\n",
      "17: '2014–15 Cleveland Cavaliers season'\n",
      "18: '2006–07 Cleveland Cavaliers season'\n",
      "19: '2007–08 Cleveland Cavaliers season'\n",
      "20: '2016 NBA Finals'\n",
      "21: '2012 NBA Finals'\n",
      "22: 'Player efficiency rating'\n",
      "23: '2018 NBA Finals'\n",
      "24: '2005–06 Cleveland Cavaliers season'\n",
      "25: 'Kevin Durant'\n",
      "26: 'St. Vincent–St. Mary High School'\n",
      "27: 'Stephen Curry'\n",
      "28: '2021–22 Los Angeles Lakers season'\n",
      "29: '2011–12 Miami Heat season'\n",
      "30: '2010–11 Miami Heat season'\n",
      "31: '2019–20 Los Angeles Lakers season'\n",
      "32: '2017–18 Cleveland Cavaliers season'\n",
      "33: '2015–16 NBA season'\n",
      "34: '2015 NBA Finals'\n",
      "35: '2016–17 NBA season'\n",
      "36: '2012–13 Miami Heat season'\n",
      "37: 'Dan Le Batard'\n",
      "38: 'Rich Paul'\n",
      "39: '2009–10 Cleveland Cavaliers season'\n",
      "40: 'I Promise School'\n",
      "41: 'Michael Jordan'\n",
      "42: '2022–23 Los Angeles Lakers season'\n",
      "43: 'History of the Cleveland Cavaliers'\n",
      "44: '2015 NBA playoffs'\n",
      "45: '2018 NBA playoffs'\n",
      "46: 'Mike Brown (basketball, born 1970)'\n",
      "47: 'NBA Most Valuable Player Award'\n",
      "48: 'List of National Basketball Association career triple-double leaders'\n",
      "49: 'Klutch Sports Group'\n",
      "50: 'Devin Booker'\n",
      "51: 'NBA Finals'\n",
      "52: 'SpringHill Company'\n",
      "53: '2014 NBA Finals'\n",
      "54: 'All-NBA Team'\n",
      "55: 'Sierra Canyon School'\n",
      "56: 'The Shop'\n",
      "57: 'The Ingraham Angle'\n",
      "58: '2017–18 NBA season'\n",
      "59: 'Kareem Abdul-Jabbar'\n",
      "60: 'Carmelo Anthony'\n",
      "61: '2011 NBA Finals'\n",
      "62: 'James Harden'\n",
      "63: '2020 NBA playoffs'\n",
      "64: '2012 NBA playoffs'\n",
      "65: 'History of the Los Angeles Lakers'\n",
      "66: '2007 NBA Finals'\n",
      "67: 'Cleveland Cavaliers'\n",
      "68: '2008–09 Cleveland Cavaliers season'\n",
      "69: 'Forbes list of the world's highest-paid athletes'\n",
      "70: 'Annie Leibovitz'\n",
      "71: 'Kyrie Irving'\n",
      "72: '2019–20 NBA season'\n",
      "73: 'James Wiseman'\n",
      "74: 'Bulls–Cavaliers rivalry'\n",
      "75: 'Maverick Carter'\n",
      "76: '2013 NBA playoffs'\n",
      "77: '2009 NBA playoffs'\n",
      "78: 'Anthony Davis'\n",
      "79: '2016 NBA playoffs'\n",
      "80: 'Hustle (2022 film)'\n",
      "81: 'Kawhi Leonard'\n",
      "82: '2007 NBA playoffs'\n",
      "83: '2012 United States men's Olympic basketball team'\n",
      "84: 'Giannis Antetokounmpo'\n",
      "85: '2003 NBA draft'\n",
      "86: 'James Jones (basketball, born 1980)'\n",
      "87: 'List of most expensive sports cards'\n",
      "88: 'Lobos 1707'\n",
      "89: 'List of National Basketball Association career scoring leaders'\n",
      "90: '2020–21 Los Angeles Lakers season'\n",
      "91: 'Victor Wembanyama'\n",
      "92: 'Team LeBron'\n",
      "93: 'Fenway Sports Group'\n",
      "94: 'Trainwreck (film)'\n",
      "95: 'Heat–Magic rivalry'\n",
      "96: '2012–13 NBA season'\n",
      "97: '2010–11 NBA season'\n",
      "98: 'Dwyane Wade'\n",
      "99: 'Scottie Pippen'\n",
      "100: '2014 NBA playoffs'\n"
     ]
    }
   ],
   "source": [
    "# Returns a list of page titles based on the given keyword\n",
    "titles = wiki.search(\"LeBron James\", suggestion=True, results=100)\n",
    "titles = titles[0]\n",
    "for i, title in enumerate(titles): print(f\"{i+1}: '{title}'\",)"
   ]
  },
  {
   "attachments": {},
   "cell_type": "markdown",
   "metadata": {},
   "source": [
    "## Get the article contents"
   ]
  },
  {
   "cell_type": "code",
   "execution_count": 10,
   "metadata": {},
   "outputs": [
    {
     "data": {
      "text/plain": [
       "'The 2014 NBA playoffs was the postseason tournament of the National Basketball Association\\'s 2013–14 season. The tournament concluded with the Western Conference champion San Antonio Spurs defeating the two-time defending NBA champion and Eastern Conference champion Miami Heat 4 games to 1 in the NBA Finals. Kawhi Leonard was named NBA Finals MVP.\\n\\n\\n== Overview ==\\nThe 2014 NBA Playoffs marked the final postseason that the NBA Playoffs and Finals logos were applied on the qualifiers\\' courts  until 2020, when digital logos were used instead of decals. They were also the first playoffs overseen by Commissioner Adam Silver.\\n\\n\\n=== Western Conference ===\\nThe San Antonio Spurs continued the longest active playoff streak in the NBA at 17 straight appearances.All three teams from Texas made the playoffs for the first time since 2009.\\nThe Dallas Mavericks returned to the playoffs after a one season absence while the Portland Trail Blazers returned to the playoffs for the first time since 2011.\\nThe Denver Nuggets missed the playoffs for the first time since 2003.\\nThe Los Angeles Lakers also missed the playoffs for the first time since 2005.\\n\\n\\n=== Eastern Conference ===\\nThe Atlanta Hawks, despite holding a sub-.500 record, made the playoffs for the seventh consecutive postseason, continuing the longest active postseason streak in the Eastern Conference.\\nThe Toronto Raptors and Washington Wizards made their first playoff appearances since 2008.\\nThe Charlotte Bobcats made their final playoff appearance before renaming themselves the Hornets, returned after a four-year absence.\\nThe New York Knicks missed the playoffs for the first time since 2010. The Boston Celtics also missed the playoffs for the first time since 2007. For the first time since 1994, the Lakers and Celtics missed the playoffs in the same season. In addition, this was the first time in NBA history that the Knicks, Celtics, and Lakers missed the playoffs in the same year.\\n\\n\\n=== First Round ===\\nThe first round of the 2014 Playoffs is generally considered one of the greatest postseason rounds in NBA history. The first 11 days of the playoffs saw at least one road team win on its opponent\\'s home floor. That ended on April 30 with the Raptors, Spurs, and Houston Rockets all winning at home against the Brooklyn Nets, Dallas Mavericks, and Portland Trail Blazers, respectively. The 24 road wins is an NBA playoffs record for the first round. In addition, the 2014 playoffs featured a record eight first-round games that went into overtime, including four straight between the Memphis Grizzlies and Oklahoma City Thunder (Games 2–5), another NBA record.\\nThis postseason and the previous year\\'s postseason marked the first time since the 2000 and 2001 playoffs that both number 5 seeds knocked out both number 4 seeds in back-to-back years. The Washington Wizards eliminated the Chicago Bulls 4-1 while the Portland Trail Blazers eliminated the Houston Rockets 4-2. \\nGame 6 of the Rockets-Trail Blazers series was highlighted by Damian Lillard’s series winning three pointer over Chandler Parsons to win the game and the series. With the win, the Trail Blazers won their first playoff series since 2000.\\nThe Hawks–Pacers series was the first series to force a Game 7, making this postseason the 15th consecutive postseason to have at least one Game 7. The 1999 NBA playoffs were the last time a Game 7 wasn\\'t played.\\nFive of the eight first-round series were extended to game sevens. Three of the series, Atlanta Hawks at Indiana Pacers, Memphis Grizzlies at Oklahoma City Thunder, and Golden State Warriors at Los Angeles Clippers, were played on May 3, which marked the first time in NBA history that three Game 7s were played on the same day. Two other game sevens were played on the following day, featuring Dallas at San Antonio and Brooklyn at Toronto. The five game sevens in the first round already tied the record for the most number of game sevens in any NBA playoffs, set in the 1994 NBA playoffs. However, the NBA only adopted a best-of-seven format for the first round beginning in 2003.Game 7 of the Raptors-Nets series was the first Game 7 ever played outside the United States. The Nets won this game, thanks to Paul Pierce’s series winning block over Kyle Lowry. This would be the last Game 7 won by a road team until the 2016 NBA Finals.\\n\\n\\n=== Conference Semifinals ===\\nGame 4 of the Heat-Nets series saw LeBron James record a Heat franchise playoff high 49 points. He eventually led the Miami Heat to their fourth consecutive Eastern Conference Finals appearance with a win in Game 5.\\nWith a Game 5 win over the Portland Trail Blazers, the San Antonio Spurs advanced to the Western Conference Finals for the third consecutive postseason.\\nWith a Game 6 win over the Washington Wizards, the Indiana Pacers made the Eastern Conference Finals for the second consecutive postseason. This also marked the first time since 1998-2000 that the Pacers made the ECF in consecutive seasons. As of 2023, this remains the Pacers’ most recent series victory.\\n\\n\\n=== Conference Finals ===\\nThis year’s conference finals marked the first postseason (and the seventh time since 1972, when the current playoff system was put in place) in which the top two seeds played in the Conference Finals both in the East and the West.\\nWith their Game 2 win over the Indiana Pacers, the Miami Heat set an NBA record by recording their 15th straight playoff series in which they earned at least one road win. \\nWith their Game 6 win over the Indiana Pacers, the Miami Heat made the NBA Finals for the fourth straight season. The Heat were the first team other than the Boston Celtics and Los Angeles Lakers to accomplish this feat.\\nWith their Game 6 overtime win over the Oklahoma City Thunder, the San Antonio Spurs made the NBA Finals for the second straight season. This marked the first time in franchise history that the Spurs made the Finals in consecutive seasons.\\n\\n\\n=== NBA Finals ===\\nThe 2014 NBA Finals were notable for several things.\\nFor the first time since 1998, there would be a rematch of last year’s finalists. In this case: the Miami Heat and the San Antonio Spurs met for the second consecutive season.\\nThis was the first NBA Finals under commissioner Adam Silver.\\nFor the first time since 1984, the NBA Finals were played in a 2–2–1–1–1 format (the higher seed hosts Games 1, 2, 5, and 7, the lower seed hosts Games 3, 4, and 6).Game 1: The air conditioning at the AT&T Center broke, resulting in sweltering conditions. LeBron James left the game with cramps.\\nGame 2: With the win, the Miami Heat extended their playoff road record to 16 straight playoff series in which they won a road game.\\nGame 3: In the first half, the San Antonio Spurs set an NBA record for accuracy (in shots made). The Spurs won this game, and took a 2-1 series lead. The Miami Heat, on the other hand, lost their first home playoff game of the season.\\nGame 4: The Miami Heat lost consecutive postseason games for the first time since 2012. The San Antonio Spurs, on the other hand, took a 3-1 series lead.\\nGame 5: Overcoming a double digit first quarter deficit, the San Antonio Spurs won the game and the NBA Finals four games to one. This was also the final game of the Miami Heat’s big three era.\\n\\n\\n== Format ==\\n\\nWithin each conference, the three division winners and the five non-division winners with the most wins qualified for the playoffs. The seedings are based on each team\\'s record; however, a division winner is guaranteed to be ranked at least fourth, regardless of record.\\nEach conference\\'s bracket is fixed; there is no reseeding. All rounds are best-of-seven series; the team that has four wins advances to the next round. As stated above, all rounds, including the NBA Finals, are in a 2–2–1–1–1 format. Home court advantage in any round does not necessarily belong to the higher-seeded team, but instead to the team with the better regular season record. If two teams with the same record meet in a round, standard tiebreaker rules are used. The rule for determining home court advantage in the NBA Finals is winning percentage, then head-to-head record, followed by record vs. opposite conference.\\n\\n\\n=== Tiebreak procedures ===\\nThe tiebreakers that determine seedings are:\\n\\nDivision leader wins tie from team not leading a division\\nHead-to-head record\\nDivision record (if all the tied teams are in the same division)\\nConference record\\nRecord vs. playoff teams, own conference\\nRecord vs. playoff teams, other conference (only in two-way tie)\\nPoint differential, all gamesIf there were more than two teams tied, the team that wins the tiebreaker gets the highest seed, while the other teams were \"re-broken\" from the first step until all ties were resolved. Since the three division winners were guaranteed a spot in the top four, ties to determine the division winners had to be broken before any other ties.\\n\\n\\n== Playoff qualifying ==\\n\\n\\n=== Eastern Conference ===\\n— = Did not achieve\\n\\n\\n=== Western Conference ===\\n— = Did not achieve\\nNotes\\n\\n\\n== Bracket ==\\nTeams in bold advanced to the next round. The numbers to the left of each team indicate the team\\'s seeding in its conference, and the numbers to the right indicate the number of games the team won in that round. The division champions are marked by an asterisk. Teams with home court advantage are shown in italics.\\n\\n* Division winnerBold Series winneritalics Team with home-court advantage\\n\\n\\n== First round ==\\nAll times are in Eastern Daylight Time (UTC−4)\\n\\n\\n=== Eastern Conference first round ===\\n\\n\\n==== (1) Indiana Pacers vs. (8) Atlanta Hawks ====\\n\\nWith the season series between the two tied at 2 games apiece and Indiana\\'s post All-Star break malaise, the series was expected to be closer than the seedings might suggest. In Game 1, the Pacers\\' struggles continued as the Hawks snatched away home-court advantage and took a 1–0 series lead. In Game 2, the Pacers were in danger of falling 0–2 in the series after the Hawks led by as much as 11 in the first half. However, the Pacers used a big 32–6 run spanning the second and third periods to take a 101–85 win and tie the series at 1 apiece. In Game 3, the Hawks blew the game open in the second half to take a 98–85 win and a surprising 2–1 series lead. In Game 4, the Pacers were once again in danger after the Hawks led by as much as 10 before the Pacers started to rally back. Paul George and David West hit crucial threes in the final quarter to give the Pacers a 91–88 win and tie the series at 2 all. The Hawks still had a chance to force overtime but Pero Antić missed his three-pointer as the Pacers took back home-court advantage.\\nIn Game 5, the Hawks embarrassed the Pacers as they used a big second quarter to take a commanding lead of as much as 30 before holding off the Pacers for a 107–97 win and a 3–2 series lead, putting the 1st-seeded Pacers on the brink of elimination. In Game 6, the Hawks looked like they were in position for the upset when they led by 5 with about 3 minutes remaining in the fourth quarter. However, West led the way for the Pacers as they forced a decisive Game 7 with a 95–88 win. The Pacers were able to finish off the Hawks in Game 7 with a 92–80 win to avoid becoming the sixth first-seeded team to lose a series to an eight-seeded team in NBA history.\\n\\nRegular-season seriesThis was the sixth playoff meeting between these two teams, with the Pacers winning three of the first five meetings.\\n\\n\\n==== (2) Miami Heat vs. (7) Charlotte Bobcats ====\\n\\nThe series pitted the two-time defending champions against a franchise only in its second playoff appearance ever (the Bobcats first played in the playoffs in 2010). As a result, the Bobcats were deemed heavy underdogs against the Heat. In Game 1, the Bobcats started strong, leading by as much as 9, but were dealt a big blow when their franchise player, Al Jefferson, suffered a left plantar fascia strain following a misstep in the first quarter. The Heat then rallied after receiving a big boost from seldom-used James Jones, who scored 12 points, allowing them to eventually pull away in the fourth quarter for a 99–88 win in the series opener. In Game 2, the Heat were able to build a 16-point first half lead before the Bobcats started to rally back. The Bobcats had a chance to force overtime, but Dwyane Wade came up with a key steal and a free throw to ice the game and give the Heat a 2–0 lead.\\nIn Game 3, the Bobcats started strong once again, led by Jefferson who scored 15 points in the first quarter, but the Heat again rallied behind LeBron James, who led the Heat with 30 points. The Heat led by as much as 26 before holding on for a 98–85 win and a commanding 3–0 series lead. In Game 4, the Bobcats played without Jefferson who was plagued by the injury he suffered in Game 1, leaving Kemba Walker to lead the team. Although he scored 29 points on 11/15 shooting, the Heat were able to complete the sweep with a big third quarter, sending them to the second round, and in the process ending the tenure of the Charlotte Bobcats, who became the Charlotte Hornets starting next season.\\n\\nRegular-season seriesThis was the second playoff meeting between these two teams, with the Hornets winning the first meeting. Note that historical records of the original Charlotte Hornets franchise (later relocated and renamed the New Orleans Pelicans) from 1988 to 2002 are currently with the present Hornets/Bobcats franchise since the 2014–15 season.\\n\\n\\n==== (3) Toronto Raptors vs. (6) Brooklyn Nets ====\\n\\nThe Raptors and the Nets faced off in the playoffs once again after they previously faced each other in 2007, when the Nets prevailed in six games. In Game 1, Paul Pierce led the way for the Nets in the clutch as they stole Game 1, 94–87, and home-court advantage from the Raptors. In Game 2, the Raptors led by as much as 11 in the first half before holding off the Nets in the final quarter to tie the series at 1 all. In Game 3, the Nets led by 15 with about 5 minutes remaining in the final period before the Raptors stormed back. With a chance to force overtime, Raptors forward Patrick Patterson missed two crucial free throws as the Nets held on for a 102–98 win and a 2–1 lead. In Game 4, in a reversal of Game 3, the Raptors were able to build a 17-point lead in the first half before the Nets rallied back to tie the game heading into the final period. However, the Raptors finished the game on a 9–0 run to win the game, 87–79, and tie the series at 2 each.\\nIn Game 5, the Raptors dominated the first three quarters to lead by as much as 26 but the Nets stormed back in the final quarter. With a chance to force overtime, Andray Blatche threw an errant pass that resulted in a backcourt violation, giving the Raptors the win and the crucial 3–2 series lead, but not before the play was reviewed because it was thought that the ball might have been tipped back before Deron Williams fired a half-court shot that was goaltended by Jonas Valančiūnas. The Nets then proceeded to blow out the Raptors in Game 6 to force a seventh and decisive game. Game 7 was close up until the final seconds of the game. With the Nets leading by 1, Kyle Lowry had a chance to win the game and the series for the Raptors but Pierce blocked his shot, giving the Nets the win and the series victory.\\n\\nRegular-season seriesThis was the second playoff meeting between these two teams, with the Nets winning the first meeting.\\n\\n\\n==== (4) Chicago Bulls vs. (5) Washington Wizards ====\\n\\nThe Bulls tried to make it through the playoffs for a third straight year without their main superstar, Derrick Rose, who suffered an early season-ending injury. Meanwhile, the Wizards made the playoffs for only the first time since 2008. As such, the series was expected to be evenly matched, although most analysts predicted a Bulls series victory. In Game 1, the Bulls led by as much as 13 in the third quarter before the Wizards soon started their comeback. Led by Nenê\\'s 24 points, the Wizards used a big fourth quarter to rally back for a 102–93 win and to steal home-court advantage away from the Bulls. In Game 2, the Wizards again rallied back from 10 down in regulation to force overtime before hanging on for a 101–99 win to go up 2–0 in the series.\\nThe Bulls prevented a commanding 3–0 lead by the Wizards in Game 3 with a 100–97 victory. The Bulls were led by Mike Dunleavy who scored 35 points including 8 three-pointers. Meanwhile, the Wizards suffered a big blow in Game 4 when Nenê was suspended after he had an altercation with Bulls\\' guard Jimmy Butler. In Game 4, the Wizards had no problem defeating the Bulls without Nenê, leading from start to finish en route to a 98–89 win to take a commanding 3–1 lead. In Game 5, the Wizards closed out their upset of the Bulls, 75–69, in a low-scoring affair as they won the series 4–1 to advance to the second round for the first time since 2005.\\n\\nRegular-season seriesThis was the third playoff meeting between these two teams, with each team winning one series apiece.\\n\\n\\n=== Western Conference first round ===\\n\\n\\n==== (1) San Antonio Spurs vs. (8) Dallas Mavericks ====\\n\\nDespite the fact that the Spurs swept the season series against the Mavericks, the series was expected to be close because of the rivalry that the two teams have. In Game 1,  the Spurs suffered a big blow as Tim Duncan limped off the floor in the third quarter. As he watched the Mavs take a 10-point lead in the fourth quarter, he returned in the game to lead the Spurs to a 90–85 victory and a 1–0 series lead. The Mavs proceeded to build another big lead in Game 2 but unlike in Game 1, they never looked back as they blew out the Spurs to tie the series at 1. Game 3 was close until the final minute. With the Mavs down by 2 with 1.7 seconds remaining, Vince Carter hit the game-winning three-pointer with no time left on the clock to give the Mavs a 1-point win and a surprising 2–1 series lead. Game 4 saw the Spurs erect a 20-point lead before the Mavs rallied back. With the Mavs down by 2 once again, Monta Ellis missed a potential game-tying layup as the Spurs tied the series at 2 and regained the home-court advantage.\\nThe Mavs were dealt a big blow when DeJuan Blair was suspended for Game 5 after kicking Tiago Splitter in the head. In Game 5, the Spurs led from start to finish to win, 109–103, and to take a crucial 3–2 series lead. However, Ellis and Nowitzki led the Mavs to a series-tying 113–111 win in Game 6 to force a decisive game. The Spurs had a chance to force overtime or to win the series after Ellis threw an errant pass but they were not able to get a shot off in time. In Game 7, Tony Parker scored 32 points as the Spurs blew out the Mavs, 119–96, to win the series, 4–3.\\n\\nRegular-season seriesThis was the sixth playoff meeting between these two teams, with the Spurs winning three of the first five meetings.\\n\\n\\n==== (2) Oklahoma City Thunder vs. (7) Memphis Grizzlies ====\\n\\nIn Game 1, the Thunder held the Grizzlies to a 36 percent field goal shooting and led by as many as 25 before holding on to a 100–86 win and a 1–0 series lead. The next four games of the series all went to overtime, breaking an NBA record for most number of OT games in a series. In Game 2, the Grizzlies led by 5 with 18 seconds remaining when Kevin Durant hit a miraculous 4-point play and after a made free throw by Mike Conley, Kendrick Perkins made a putback at the buzzer to force overtime. However, the Grizzlies held on in OT and tied the series at 1 game apiece. The Grizzlies led by 17 in the fourth quarter before the Thunder came roaring back. The Thunder trailed by 4 in the final minute when Westbrook hit a 4-point play that eventually forced overtime. However, the Grizzlies held off the Thunder for a 2–1 series lead.\\nIn Game 4, with Durant and Westbrook struggling offensively, Reggie Jackson scored a career-high 32 points that helped the Thunder take a 14-point lead before the Grizzlies stormed back. With the Grizzlies leading by 5 in the final minute, Jackson hit a 3 and a layup to force overtime. The Grizzlies still had a chance to force a second overtime but Conley\\'s three missed as the Thunder tied the series at 2. Game 5 saw the Grizzlies erect a 20-point lead in the third quarter, but the Thunder rallied back. With the Thunder trailing by 2, Westbrook came up with a steal and a dunk to force another overtime. The Thunder had a chance to win the game in overtime but Durant\\'s three missed. Luckily, Serge Ibaka made a putback but replays showed that the ball left Ibaka\\'s hands after the buzzer sounded, giving the Grizzlies a 3–2 series lead. Knowing that their season could once again end in Grizzlies\\' hands if they lost another game, the Thunder blew out the Grizzlies in Game 6, forcing a decisive game. Prior to Game 7, Zach Randolph was suspended for punching Steven Adams while jogging back in transition in Game 6. Though putting up a valiant effort without their leading scorer, the Grizzlies ultimately succumbed to the Thunder who managed to avenge their loss from the year before.\\n\\nRegular-season seriesThis was the third playoff meeting between these two teams, with each team winning one series apiece.\\n\\n\\n==== (3) Los Angeles Clippers vs. (6) Golden State Warriors ====\\n\\nThe series was seen as one of the most dramatic first round series in the NBA, especially after the controversy surrounding Clippers\\' owner Donald Sterling\\'s racist comments arose. In Game 1, with the Warriors up by 3 in the final seconds, the Clippers had a chance to force overtime but Darren Collison stepped out of bounds after running down the loose ball. Klay Thompson sealed a 1–0 series lead for the Warriors by splitting his free throws as the Warriors took away home court advantage. The Clippers tied the series at 1 after blowing out the Warriors in Game 2 by 40 to set a franchise record for the largest margin of victory in a postseason game. In Game 3, the Warriors rallied back from an 18-point deficit in the third quarter. Down by 2, the Warriors had a chance to win but Stephen Curry\\'s three missed as the Clippers took back home court advantage and a 2–1 lead in the series.\\nA day after the Clippers\\' Game 3 win, controversy regarding Clippers\\' owner Donald Sterling\\'s racist comments arose. As a result, the Clippers silently protested in Game 4 by shedding their warm-up jerseys and going through the pregame routine with their red shirts on inside out. However, Curry scored 33 points including seven three-pointers as the Warriors blew out the Clippers to tie the series at 2. Before Game 5, the NBA handed out a lifetime suspension to Donald Sterling. This appeared to have a positive effect on the Clippers, who won a hotly contested Game 5 in front of their home crowd to lead the series, 3–2. DeAndre Jordan led the Clippers in the game with 25 points, 18 rebounds and 4 blocks to become the first player since Tim Duncan in 2008 to have such stats in a playoff game.\\nThe Warriors were able to stave off elimination with a 100–99 win in Game 6 to force a decisive game. The Clippers had many chances to chip into the Warriors\\' 4-point lead in the final minute, but they missed their chances and Matt Barnes\\' three-pointer was already too late. In Game 7, the Warriors controlled the first quarter, but the Clippers eventually came back. In the final quarter, it was the Clippers who hit the biggest shots as they took Game 7 to advance to the semifinals.\\n\\nThis was the first playoff meeting between the Warriors and the Clippers.\\n\\n\\n==== (4) Houston Rockets vs. (5) Portland Trail Blazers ====\\n\\nThe two teams faced off in the playoffs for the fourth time and the Blazers tried to defeat the Rockets after losing their previous three encounters. In Game 1, the Rockets held an 11-point lead with 4:30 remaining in the fourth quarter but the Blazers rallied to force overtime. It again appeared the Rockets had too large of a lead to overcome when they led by 6 in overtime but LaMarcus Aldridge hit a desperation three to spark an 8–0 run. The Rockets had a chance to win but James Harden missed a three-pointer as they took away home court advantage and a 1–0 series lead. Aldridge scored a career-high 46 points to lead the Blazers. In Game 2, the Rockets had no answers for Aldridge once again as he scored 43 points to give the Blazers a 112–105 win and a 2–0 series lead heading to the next two games in Portland. In Game 3, Nicolas Batum was able to force overtime with a 3 with 41 seconds remaining in regulation. In overtime, with the two teams tied at 116, seldom-used Troy Daniels hit a crucial 3-pointer. The Blazers had a chance to force overtime but Batum missed his three-pointer and Harden made two free throws to clinch the game. In Game 4, the two teams went to overtime again after Dwight Howard hit a dunk with 3 seconds remaining in regulation before Mo Williams missed a 3 at the buzzer. However, the Blazers had a 9–2 run in overtime to clinch a 3–1 series lead for the Blazers. The Rockets had a chance to tie the game but Wesley Matthews stole the ball.\\nFacing elimination in Game 5, the Rockets held Aldridge to 8 points as they lived to fight another day with a 108–98 win to trim the Blazers\\' series lead to 3–2. Game 6 was close in the final minute. It seemed that a Game 7 was inevitable when Chandler Parsons hit a reverse layup with 0.9 seconds remaining but the Rockets\\' hearts were broken when Damian Lillard hit a game-winning three-point shot at the buzzer to send Portland to the second round of the playoffs. The most recent person to hit a series-winning buzzer beater prior to Lillard was John Stockton, who hit the game-winning three-point shot against Houston in 1997 to advance to the Finals. With their win, Portland advanced to the second-round appearance for the first time since 2000, ending a 14-year drought which was the longest at the time.\\n\\nRegular-season seriesThis was the fourth playoff meeting between these two teams, with the Rockets winning the first three meetings.\\n\\n\\n== Conference semifinals ==\\n\\n\\n=== Eastern Conference semifinals ===\\n\\n\\n==== (1) Indiana Pacers vs. (5) Washington Wizards ====\\n\\nGoing to the Conference Semifinals, the Pacers came off a tough seven-game series against the Hawks while the Wizards were able to dispatch the Bulls in five games, giving them plenty of time to rest and prepare for the second round. In Game 1, the Wizards held a 13-point lead after one quarter and kept that momentum to take the series opener and the home court advantage away from the Pacers. Trevor Ariza led the Wizards\\' charge with 22 points including 6/6 from three-point land. After being criticized once again for having a 0-point and 0-rebound performance in Game 1, Roy Hibbert broke loose for 28 points as he led the Pacers to a series-tying 86–82 victory over the Wizards. In Game 3, the Pacers\\' early season form returned, holding the Wizards to only 63 points and 33 percent shooting as they blew them out to take a 2–1 series lead.\\nIt looked as if the Wizards had Game 4 in hand when they led by 19 points early in the third quarter but the Pacers eventually came back. Trailing by 3 with 6 seconds remaining, the Wizards had a chance to force overtime but Ariza threw an errant pass, sealing the win and the 3–1 series lead for the Pacers. Paul George led the Pacers\\' comeback with 39 points including 28 in the second half. In Game 5, the Wizards responded by blowing out the Pacers, 102–79, with Marcin Gortat scoring 31 points and grabbing 16 rebounds. The Wizards held a 62–23 rebounding advantage in Game 5, the widest margin in a playoff game since 1985. However, David West led the Pacers with 29 points in Game 6 as the Pacers ended the Wizards\\' run with a 93–80 win as they advanced to the Eastern Conference Finals for the second straight year.\\n\\nRegular-season seriesThis was the first playoff meeting between the Pacers and the Wizards.\\n\\n\\n==== (2) Miami Heat vs. (6) Brooklyn Nets ====\\n\\nDespite the fact that the Nets swept the season series against the Heat, the series was expected to be close, with all their four regular season meetings going down to the wire. In Game 1, the Heat showed no signs of rust from their long rest, blowing out the Nets, 107–86, for their first victory against the Nets all season long and the 1–0 series lead. In Game 2, the game was close until the Heat pulled away in the fourth quarter, outscoring the Nets by 10 en route to a 94–82 win and the 2–0 series lead as they remained perfect in the postseason. The game was clinched when the Heat held the ball from the 3:39 mark to the 1:59 mark of the final quarter, grabbing three offensive rebounds until LeBron James made a layup to make it a 10-point game, essentially icing the game. Mirza Teletović had a breakout playoff game with 20 points including 6 three-pointers for the Nets in a losing effort. In Game 3, the Nets had a hot shooting performance from three-point range, hitting 15 three-pointers as the Nets defeated the Heat, 104–90, to deal the Heat their first loss of the postseason and to cut their series deficit to 2–1.\\nGame 4 was close throughout, but the Heat were victorious, 102–96, to take a commanding 3–1 series lead. James exploded for a Heat playoff franchise record 49 points on an efficient 16/24 shooting clip and Chris Bosh made a tie breaking three-pointer in the final minute to give the Heat the lead for good before Ray Allen and James clinched the game with 5 free throws. In Game 5, a series extension seemed likely when the Nets led by 8 points with 5 minutes remaining. However, they went scoreless for the next 4+1⁄2 minutes, allowing the Heat to make a 12–0 run capped by a three-pointer and two free throws by Allen to take the lead for good. The Nets had a chance to tie after a Joe Johnson three-pointer and a split from the free throw line by James but Johnson wasn\\'t able to get a shot off, giving the Heat the win as they advanced to their fourth straight Eastern Conference Finals appearance.\\n\\nRegular-season seriesThis was the third playoff meeting between these two teams, with the Heat winning the first two meetings.\\n\\n\\n=== Western Conference semifinals ===\\n\\n\\n==== (1) San Antonio Spurs vs. (5) Portland Trail Blazers ====\\n\\nThe Spurs and the Blazers were coming off two tough first round series. The Spurs came off a tough seven-game series against the Mavericks while Blazers came off a dramatic first round series against the Rockets where Damian Lillard finished off the Rockets with a buzzer-beating three-pointer. In Game 1, the Spurs\\' experience paid off against the young Blazers, blowing them out in Game 1 to take the series opener. Tony Parker led the Spurs with 33 points in Game 1. Game 2 was more of the same, with the Spurs pulling away in the second quarter to blow out the Blazers once again as they took a 2–0 lead. They were able to hold the duo of LaMarcus Aldridge and Lillard to a combined 14/43 shooting. With the series shifting to Portland, the Blazers tried to close in on the Spurs\\' series lead but they were blown out for the third consecutive time as they fell behind 0–3 in the series. No NBA team has ever came back to win a series after being down 0–3.\\nIn Game 4, the Blazers finally won against the Spurs in the series, outscoring the Spurs 35–20 in the third quarter en route to a 103–92 win to cut their series deficit to 3–1. However, the Spurs were able to finish off the Blazers in Game 5 with another blowout win, sending them to the Western Conference Finals for the third consecutive year.\\n\\nRegular-season seriesThis was the fourth playoff meeting between these two teams, with the Spurs winning two of the first three meetings.\\n\\n\\n==== (2) Oklahoma City Thunder vs. (3) Los Angeles Clippers ====\\n\\nThe Thunder and the Clippers were both coming off tough seven-game series against the Grizzlies and Warriors, respectively. The series was expected to be close with the two teams tied in their regular season series. In Game 1, the Clippers easily took home court advantage away from the Thunder, blowing them out, 122–105, and taking a 1–0 series lead. Chris Paul led the Clippers with 32 points including a career-high eight three-pointers. Game 2 was different, with Paul held to just two three-pointers as the Thunder took Game 2 to tie the series at 1. Russell Westbrook had a triple-double with 31 points, 10 rebounds and 10 assists. In Game 3, Serge Ibaka gave a big boost to the Thunder with 20 points as the Thunder took back home court advantage with a 118–112 victory to take a 2–1 series lead. Game 4 saw the Thunder build a big 22-point lead before the Clippers closed in on the Thunder. Darren Collison gave the Clippers the lead for good by hitting a layup with a minute remaining. The Thunder had a chance to win, but Westbrook\\'s three-point shot missed as the Clippers tied the series at 2.\\nIn Game 5, the Clippers built an early 15-point lead, but the Thunder came back. The Clippers still led by 13 with 4 minutes remaining, but the Thunder relentlessly closed in. It seemed like the Clippers had the game in hand when they led by 7 points with 49 seconds remaining, but the Thunder closed the game on an 8–0 run, courtesy of a three-pointer and layup by Kevin Durant and three free throws by Westbrook. The Clippers had a chance to win, but Paul committed a turnover, sealing the 3–2 lead for the Thunder. Game 5 also ended in controversy after a questionable out-of-bounds call with 11 seconds remaining. The referees ruled that the ball went off the Clippers\\' Matt Barnes, giving the Thunder possession with 11.3 seconds to play and setting up Westbrook\\'s game-winning free throws. Although replays showed that the ball went off Oklahoma City\\'s Reggie Jackson, the officials awarded the ball to the Thunder. After review, the play stood. In Game 6, the Clippers built another double-digit lead, but the Thunder eventually came back as they took the series in 6 games. Durant had 39 points for the Thunder, who advanced to the Western Conference Finals for the third time in four years.\\n\\nRegular-season seriesThis was the first playoff meeting between the Clippers and the Thunder.\\n\\n\\n== Conference finals ==\\n\\n\\n=== Eastern Conference finals ===\\n\\n\\n==== (1) Indiana Pacers vs. (2) Miami Heat ====\\n\\nThe series marked the third consecutive year that the Heat and the Pacers faced off in the playoffs including the second consecutive time in the Conference Finals. The Heat won the previous two match ups against the Pacers and the Pacers tried to dethrone them as Eastern Conference Champions. In Game 1, the Pacers finally started a series on the right foot by defeating the Heat, 107–96, as they took the series opener. The Pacers jumped to a 10-point lead early and they never looked back, leading by as much as 19. However, the Heat responded by taking Game 2, 87–83, and the home court advantage. LeBron James and Dwyane Wade led the Heat in the clutch, scoring the Heat\\'s last 20 points. Lance Stephenson led the Pacers with 25 points but he was held to one field goal in the fourth quarter. The Heat won Game 3, 99–87, to take a 2–1 series lead. The Pacers started strong, leading by as much as 15 in the second quarter before the Heat cut the lead to 4 by halftime. The Heat eventually pulled away in the fourth quarter with the help of Ray Allen\\'s 16 points including four key three-pointers in the final period. In Game 4, after scoring just a total of 27 points in the first three games, Chris Bosh finally broke out of his slump by scoring 25 points, almost matching his total from the first three games. James led the Heat with 32 points to give the Heat a wire-to-wire 102–90 victory that put them one game away from the NBA Finals.\\nIn Game 5, it seemed like the Heat\\'s 11-point lead in the third quarter was too much to overcome. However, James received his fourth and fifth fouls early in the third quarter, putting him on the bench and giving the Pacers momentum to come back and take Game 5, 93–90, to stave off elimination. Paul George led the Pacers with 37 points, including 21 in the fourth quarter alone. The Heat had a chance to win but Bosh missed a three-pointer. James also produced his worst playoff game, scoring just 7 points after being plagued by foul trouble. However, the Heat did not let the series go to a Game 7 as they blew out the Pacers in Game 6, 117–92, finishing them off for the third straight year as they advanced to their fourth straight NBA Finals appearance.\\n\\nRegular-season seriesThis was the fourth playoff meeting between these two teams, with the Heat winning two of the first three meetings.\\n\\n\\n=== Western Conference finals ===\\n\\n\\n==== (1) San Antonio Spurs vs. (2) Oklahoma City Thunder ====\\n\\nThe series featured a rematch of the 2012 Western Conference Finals that was won by the Thunder in six games after they trailed 0–2 in the series. The series was expected to be close, but the Thunder suffered a big blow when Serge Ibaka was ruled out of the rest of the playoffs. The Spurs took advantage of the absence of Ibaka as they blew out the Thunder in Game 1. The Spurs were able to outscore the Thunder, 66–32, in the paint. Game 2 saw the Spurs blow out the Thunder by 35 points, with the Spurs holding Kevin Durant and Russell Westbrook to 15 points each. Danny Green hit seven three-pointers in the game. Before Game 3, fortunes turned around for the Thunder when Ibaka was upgraded to \"day-to-day,\" allowing for the possibility that he could play in the series. Ibaka returned in Game 3 as a member of the starting lineup, and his presence motivated the Thunder to win Game 3, cutting their series deficit to 2–1. The Thunder proceeded to blow out the Spurs in Game 4, tying the series at 2 games apiece. Westbrook led the Thunder with 40 points and Durant added 31 points.\\nIn Game 5, the Spurs didn\\'t let a repeat of the 2012 Western Conference Finals happen as they blew out the Thunder once again to take a 3–2 series lead, sending them a win away from a return trip to the NBA Finals. Game 6 was the first close game in the series. Before the fourth quarter began, Tony Parker suffered a minor injury, and sat out the rest of the game, so Patty Mills played most of the fourth quarter and the overtime.  The Spurs held a 6-point lead with around 2+1⁄2 minutes remaining, but the Thunder answered with an 8–0 run.  However, Manu Ginóbili hit a three-pointer and a split from the free throw line to give the Spurs a 2-point lead before Westbrook sent the game to overtime with two free throws. In overtime, it was Tim Duncan who helped the Spurs pull away as they won the series, 4–2, to advance to the NBA Finals for a second straight year.\\n\\nRegular-season seriesThis was the fifth playoff meeting between these two teams, with the Spurs winning three of the first four meetings.\\n\\n\\n== NBA Finals: (E2) Miami Heat vs. (W1) San Antonio Spurs ==\\n\\nGame 5 is Ray Allen\\'s final NBA game.Regular-season seriesThe San Antonio Spurs had met the Miami Heat the previous year in the Finals, and on the brink of winning the championship title with seconds left, the Spurs blew a 5-point lead with 28 seconds left in Game 6. Thus, it was quite clear that the Spurs wanted redemption. In Game 1, it was quite tight for the first 3 quarters, but mid-way in the 4th quarter, LeBron James had a cramp, forcing him to leave the game with 25 points. The Spurs then went on an 18–2 run in James\\' absence, and comfortably won 110–95 and take a 1–0 lead. Game 2 was quite similar, being very close for almost all of the game, despite LeBron\\'s 14 points in the 3rd quarter on 6 straight jumpshots and 35 points for the game. In the 4th quarter, Chris Bosh made several clutch plays, including a 3-pointer, and setting up Dwyane Wade to put up Miami by 5 with less than 10 seconds left. Miami tied the series, winning 98–96. As the series shifted to Miami, their perfect 8–0 playoff home record seemed very threatening to every opponent. However, it was all San Antonio, scoring 41 points in the first quarter and 71 points at the half on 76% shooting, an NBA Finals record. The Heat, down 21 points at the half and down as much 25 throughout the game, cut the lead to 7, but never come closer. Big performances from Kawhi Leonard (career-high 29 points on 10–13 shooting) and Danny Green (15 points on 7–8 shooting & 5 steals in 21 minutes) helped ease the Spurs to a 111–92 blowout, taking a 2–1 series lead and handing Miami their first home loss of the playoffs. Game 4 was strikingly similar, with San Antonio dominating the first half 55–36, and never looking back. Another good performance by Kawhi Leonard (20 points, 14 rebounds, 3 assists, 3 blocks, 3 steals), Tony Parker (19 points) and Patty Mills (14 points in 16 minutes) helped the Spurs to a 107–86 blowout and take a commanding 3–1 lead in the series. This was also the first time Miami had lost 2 consecutive playoff games since 2012. Tim Duncan also made history, having played the most minutes in NBA playoff history while also passing Magic Johnson for the most double-doubles in the playoffs with 158. In Game 5, Miami got off to a fast start, once leading 22–6, while LeBron James having a 17-point and 6-rebound first quarter. However, San Antonio outscored Miami by 14 in the second quarter, sneaking their way back into the game. In the third quarter, the Spurs outscored Miami 30–18, with Patty Mills scoring 14 points in the quarter with 4 3-point shots, and from there on it was a blowout. Despite a 31–10–5 performance from LeBron James, poor performances came from Chris Bosh, Dwyane Wade and Ray Allen (combining for 11–34 shooting). Kawhi Leonard shot 70% from the field and 75% from 3-point land and score 22 points while also going along with 10 rebounds, Ginobili and Mills shot a combined 8–14 from 3-point territory, and the Spurs shot 46% from 3-point land, and the San Antonio Spurs blew out the Heat again 104–87 to win their fifth title in franchise history and avenge the previous year\\'s heartbreaking loss.\\nThis was the second playoff meeting between these two teams, with the Heat winning the first meeting.\\n\\n\\n== Statistical leaders ==\\n\\n\\n== Media coverage ==\\n\\n\\n=== Television ===\\nIn the United States, ESPN, ESPN2, ABC, TNT, and NBA TV  broadcast the 2014 NBA Playoffs nationally in its entirety. In the first round, the regional sports networks affiliated with the teams participating can also broadcast the games. The first round was mostly televised by ESPN, ESPN2, TNT, and NBA TV, with ABC getting select weekend afternoon games. In the second round, ESPN, ESPN2, and TNT continued to air games, while ABC again gets a few weekend afternoon games. TNT televised the Western Conference Finals, and ESPN aired the Eastern Conference Finals (with Game 1 televised on ABC). The NBA Finals aired in primetime on ABC. In the Philippines, the playoffs were aired by ABS-CBN Sports and Action.\\n\\n\\n=== Radio ===\\n\\nESPN Radio had exclusive radio rights to broadcast the playoffs in the United States. They broadcast most of the games, including all of the Conference Finals and NBA Finals.\\n\\n\\n== References ==\\n\\n\\n== External links ==\\n2014 NBA Playoffs at ESPN'"
      ]
     },
     "execution_count": 10,
     "metadata": {},
     "output_type": "execute_result"
    }
   ],
   "source": [
    "# Returns a WikipediaPage object that represents a wikipedia page\n",
    "page = wiki.page(titles[0], auto_suggest=False)\n",
    "page.content"
   ]
  },
  {
   "cell_type": "code",
   "execution_count": 57,
   "metadata": {},
   "outputs": [],
   "source": [
    "# Create a DataFrame to store the 'title' and 'content' \n",
    "pages_df = pd.DataFrame(columns=[\"title\", \"content\"])"
   ]
  },
  {
   "cell_type": "code",
   "execution_count": 58,
   "metadata": {},
   "outputs": [
    {
     "ename": "KeyboardInterrupt",
     "evalue": "",
     "output_type": "error",
     "traceback": [
      "\u001b[0;31m---------------------------------------------------------------------------\u001b[0m",
      "\u001b[0;31mKeyboardInterrupt\u001b[0m                         Traceback (most recent call last)",
      "\u001b[0;32m/var/folders/w2/c53crljd2y523fsqplb9bml00000gp/T/ipykernel_21965/501207925.py\u001b[0m in \u001b[0;36m<module>\u001b[0;34m\u001b[0m\n\u001b[1;32m      7\u001b[0m     \u001b[0;31m# Get the content of the article\u001b[0m\u001b[0;34m\u001b[0m\u001b[0;34m\u001b[0m\u001b[0;34m\u001b[0m\u001b[0m\n\u001b[1;32m      8\u001b[0m     \u001b[0;32mtry\u001b[0m\u001b[0;34m:\u001b[0m\u001b[0;34m\u001b[0m\u001b[0;34m\u001b[0m\u001b[0m\n\u001b[0;32m----> 9\u001b[0;31m         \u001b[0mpage_content\u001b[0m \u001b[0;34m=\u001b[0m \u001b[0mwiki\u001b[0m\u001b[0;34m.\u001b[0m\u001b[0mpage\u001b[0m\u001b[0;34m(\u001b[0m\u001b[0mtitle\u001b[0m\u001b[0;34m,\u001b[0m \u001b[0mauto_suggest\u001b[0m\u001b[0;34m=\u001b[0m\u001b[0;32mFalse\u001b[0m\u001b[0;34m)\u001b[0m\u001b[0;34m.\u001b[0m\u001b[0mcontent\u001b[0m\u001b[0;34m\u001b[0m\u001b[0;34m\u001b[0m\u001b[0m\n\u001b[0m\u001b[1;32m     10\u001b[0m \u001b[0;34m\u001b[0m\u001b[0m\n\u001b[1;32m     11\u001b[0m         \u001b[0;31m# Store the article contents in the DataFrame\u001b[0m\u001b[0;34m\u001b[0m\u001b[0;34m\u001b[0m\u001b[0;34m\u001b[0m\u001b[0m\n",
      "\u001b[0;32m~/Library/Python/3.8/lib/python/site-packages/wikipedia/wikipedia.py\u001b[0m in \u001b[0;36mcontent\u001b[0;34m(self)\u001b[0m\n\u001b[1;32m    473\u001b[0m       \u001b[0;32melse\u001b[0m\u001b[0;34m:\u001b[0m\u001b[0;34m\u001b[0m\u001b[0;34m\u001b[0m\u001b[0m\n\u001b[1;32m    474\u001b[0m          \u001b[0mquery_params\u001b[0m\u001b[0;34m[\u001b[0m\u001b[0;34m'pageids'\u001b[0m\u001b[0;34m]\u001b[0m \u001b[0;34m=\u001b[0m \u001b[0mself\u001b[0m\u001b[0;34m.\u001b[0m\u001b[0mpageid\u001b[0m\u001b[0;34m\u001b[0m\u001b[0;34m\u001b[0m\u001b[0m\n\u001b[0;32m--> 475\u001b[0;31m       \u001b[0mrequest\u001b[0m \u001b[0;34m=\u001b[0m \u001b[0m_wiki_request\u001b[0m\u001b[0;34m(\u001b[0m\u001b[0mquery_params\u001b[0m\u001b[0;34m)\u001b[0m\u001b[0;34m\u001b[0m\u001b[0;34m\u001b[0m\u001b[0m\n\u001b[0m\u001b[1;32m    476\u001b[0m       \u001b[0mself\u001b[0m\u001b[0;34m.\u001b[0m\u001b[0m_content\u001b[0m     \u001b[0;34m=\u001b[0m \u001b[0mrequest\u001b[0m\u001b[0;34m[\u001b[0m\u001b[0;34m'query'\u001b[0m\u001b[0;34m]\u001b[0m\u001b[0;34m[\u001b[0m\u001b[0;34m'pages'\u001b[0m\u001b[0;34m]\u001b[0m\u001b[0;34m[\u001b[0m\u001b[0mself\u001b[0m\u001b[0;34m.\u001b[0m\u001b[0mpageid\u001b[0m\u001b[0;34m]\u001b[0m\u001b[0;34m[\u001b[0m\u001b[0;34m'extract'\u001b[0m\u001b[0;34m]\u001b[0m\u001b[0;34m\u001b[0m\u001b[0;34m\u001b[0m\u001b[0m\n\u001b[1;32m    477\u001b[0m       \u001b[0mself\u001b[0m\u001b[0;34m.\u001b[0m\u001b[0m_revision_id\u001b[0m \u001b[0;34m=\u001b[0m \u001b[0mrequest\u001b[0m\u001b[0;34m[\u001b[0m\u001b[0;34m'query'\u001b[0m\u001b[0;34m]\u001b[0m\u001b[0;34m[\u001b[0m\u001b[0;34m'pages'\u001b[0m\u001b[0;34m]\u001b[0m\u001b[0;34m[\u001b[0m\u001b[0mself\u001b[0m\u001b[0;34m.\u001b[0m\u001b[0mpageid\u001b[0m\u001b[0;34m]\u001b[0m\u001b[0;34m[\u001b[0m\u001b[0;34m'revisions'\u001b[0m\u001b[0;34m]\u001b[0m\u001b[0;34m[\u001b[0m\u001b[0;36m0\u001b[0m\u001b[0;34m]\u001b[0m\u001b[0;34m[\u001b[0m\u001b[0;34m'revid'\u001b[0m\u001b[0;34m]\u001b[0m\u001b[0;34m\u001b[0m\u001b[0;34m\u001b[0m\u001b[0m\n",
      "\u001b[0;32m~/Library/Python/3.8/lib/python/site-packages/wikipedia/wikipedia.py\u001b[0m in \u001b[0;36m_wiki_request\u001b[0;34m(params)\u001b[0m\n\u001b[1;32m    735\u001b[0m     \u001b[0mtime\u001b[0m\u001b[0;34m.\u001b[0m\u001b[0msleep\u001b[0m\u001b[0;34m(\u001b[0m\u001b[0mint\u001b[0m\u001b[0;34m(\u001b[0m\u001b[0mwait_time\u001b[0m\u001b[0;34m.\u001b[0m\u001b[0mtotal_seconds\u001b[0m\u001b[0;34m(\u001b[0m\u001b[0;34m)\u001b[0m\u001b[0;34m)\u001b[0m\u001b[0;34m)\u001b[0m\u001b[0;34m\u001b[0m\u001b[0;34m\u001b[0m\u001b[0m\n\u001b[1;32m    736\u001b[0m \u001b[0;34m\u001b[0m\u001b[0m\n\u001b[0;32m--> 737\u001b[0;31m   \u001b[0mr\u001b[0m \u001b[0;34m=\u001b[0m \u001b[0mrequests\u001b[0m\u001b[0;34m.\u001b[0m\u001b[0mget\u001b[0m\u001b[0;34m(\u001b[0m\u001b[0mAPI_URL\u001b[0m\u001b[0;34m,\u001b[0m \u001b[0mparams\u001b[0m\u001b[0;34m=\u001b[0m\u001b[0mparams\u001b[0m\u001b[0;34m,\u001b[0m \u001b[0mheaders\u001b[0m\u001b[0;34m=\u001b[0m\u001b[0mheaders\u001b[0m\u001b[0;34m)\u001b[0m\u001b[0;34m\u001b[0m\u001b[0;34m\u001b[0m\u001b[0m\n\u001b[0m\u001b[1;32m    738\u001b[0m \u001b[0;34m\u001b[0m\u001b[0m\n\u001b[1;32m    739\u001b[0m   \u001b[0;32mif\u001b[0m \u001b[0mRATE_LIMIT\u001b[0m\u001b[0;34m:\u001b[0m\u001b[0;34m\u001b[0m\u001b[0;34m\u001b[0m\u001b[0m\n",
      "\u001b[0;32m~/Library/Python/3.8/lib/python/site-packages/requests/api.py\u001b[0m in \u001b[0;36mget\u001b[0;34m(url, params, **kwargs)\u001b[0m\n\u001b[1;32m     73\u001b[0m     \"\"\"\n\u001b[1;32m     74\u001b[0m \u001b[0;34m\u001b[0m\u001b[0m\n\u001b[0;32m---> 75\u001b[0;31m     \u001b[0;32mreturn\u001b[0m \u001b[0mrequest\u001b[0m\u001b[0;34m(\u001b[0m\u001b[0;34m'get'\u001b[0m\u001b[0;34m,\u001b[0m \u001b[0murl\u001b[0m\u001b[0;34m,\u001b[0m \u001b[0mparams\u001b[0m\u001b[0;34m=\u001b[0m\u001b[0mparams\u001b[0m\u001b[0;34m,\u001b[0m \u001b[0;34m**\u001b[0m\u001b[0mkwargs\u001b[0m\u001b[0;34m)\u001b[0m\u001b[0;34m\u001b[0m\u001b[0;34m\u001b[0m\u001b[0m\n\u001b[0m\u001b[1;32m     76\u001b[0m \u001b[0;34m\u001b[0m\u001b[0m\n\u001b[1;32m     77\u001b[0m \u001b[0;34m\u001b[0m\u001b[0m\n",
      "\u001b[0;32m~/Library/Python/3.8/lib/python/site-packages/requests/api.py\u001b[0m in \u001b[0;36mrequest\u001b[0;34m(method, url, **kwargs)\u001b[0m\n\u001b[1;32m     59\u001b[0m     \u001b[0;31m# cases, and look like a memory leak in others.\u001b[0m\u001b[0;34m\u001b[0m\u001b[0;34m\u001b[0m\u001b[0;34m\u001b[0m\u001b[0m\n\u001b[1;32m     60\u001b[0m     \u001b[0;32mwith\u001b[0m \u001b[0msessions\u001b[0m\u001b[0;34m.\u001b[0m\u001b[0mSession\u001b[0m\u001b[0;34m(\u001b[0m\u001b[0;34m)\u001b[0m \u001b[0;32mas\u001b[0m \u001b[0msession\u001b[0m\u001b[0;34m:\u001b[0m\u001b[0;34m\u001b[0m\u001b[0;34m\u001b[0m\u001b[0m\n\u001b[0;32m---> 61\u001b[0;31m         \u001b[0;32mreturn\u001b[0m \u001b[0msession\u001b[0m\u001b[0;34m.\u001b[0m\u001b[0mrequest\u001b[0m\u001b[0;34m(\u001b[0m\u001b[0mmethod\u001b[0m\u001b[0;34m=\u001b[0m\u001b[0mmethod\u001b[0m\u001b[0;34m,\u001b[0m \u001b[0murl\u001b[0m\u001b[0;34m=\u001b[0m\u001b[0murl\u001b[0m\u001b[0;34m,\u001b[0m \u001b[0;34m**\u001b[0m\u001b[0mkwargs\u001b[0m\u001b[0;34m)\u001b[0m\u001b[0;34m\u001b[0m\u001b[0;34m\u001b[0m\u001b[0m\n\u001b[0m\u001b[1;32m     62\u001b[0m \u001b[0;34m\u001b[0m\u001b[0m\n\u001b[1;32m     63\u001b[0m \u001b[0;34m\u001b[0m\u001b[0m\n",
      "\u001b[0;32m~/Library/Python/3.8/lib/python/site-packages/requests/sessions.py\u001b[0m in \u001b[0;36mrequest\u001b[0;34m(self, method, url, params, data, headers, cookies, files, auth, timeout, allow_redirects, proxies, hooks, stream, verify, cert, json)\u001b[0m\n\u001b[1;32m    527\u001b[0m         }\n\u001b[1;32m    528\u001b[0m         \u001b[0msend_kwargs\u001b[0m\u001b[0;34m.\u001b[0m\u001b[0mupdate\u001b[0m\u001b[0;34m(\u001b[0m\u001b[0msettings\u001b[0m\u001b[0;34m)\u001b[0m\u001b[0;34m\u001b[0m\u001b[0;34m\u001b[0m\u001b[0m\n\u001b[0;32m--> 529\u001b[0;31m         \u001b[0mresp\u001b[0m \u001b[0;34m=\u001b[0m \u001b[0mself\u001b[0m\u001b[0;34m.\u001b[0m\u001b[0msend\u001b[0m\u001b[0;34m(\u001b[0m\u001b[0mprep\u001b[0m\u001b[0;34m,\u001b[0m \u001b[0;34m**\u001b[0m\u001b[0msend_kwargs\u001b[0m\u001b[0;34m)\u001b[0m\u001b[0;34m\u001b[0m\u001b[0;34m\u001b[0m\u001b[0m\n\u001b[0m\u001b[1;32m    530\u001b[0m \u001b[0;34m\u001b[0m\u001b[0m\n\u001b[1;32m    531\u001b[0m         \u001b[0;32mreturn\u001b[0m \u001b[0mresp\u001b[0m\u001b[0;34m\u001b[0m\u001b[0;34m\u001b[0m\u001b[0m\n",
      "\u001b[0;32m~/Library/Python/3.8/lib/python/site-packages/requests/sessions.py\u001b[0m in \u001b[0;36msend\u001b[0;34m(self, request, **kwargs)\u001b[0m\n\u001b[1;32m    665\u001b[0m             \u001b[0;31m# Redirect resolving generator.\u001b[0m\u001b[0;34m\u001b[0m\u001b[0;34m\u001b[0m\u001b[0;34m\u001b[0m\u001b[0m\n\u001b[1;32m    666\u001b[0m             \u001b[0mgen\u001b[0m \u001b[0;34m=\u001b[0m \u001b[0mself\u001b[0m\u001b[0;34m.\u001b[0m\u001b[0mresolve_redirects\u001b[0m\u001b[0;34m(\u001b[0m\u001b[0mr\u001b[0m\u001b[0;34m,\u001b[0m \u001b[0mrequest\u001b[0m\u001b[0;34m,\u001b[0m \u001b[0;34m**\u001b[0m\u001b[0mkwargs\u001b[0m\u001b[0;34m)\u001b[0m\u001b[0;34m\u001b[0m\u001b[0;34m\u001b[0m\u001b[0m\n\u001b[0;32m--> 667\u001b[0;31m             \u001b[0mhistory\u001b[0m \u001b[0;34m=\u001b[0m \u001b[0;34m[\u001b[0m\u001b[0mresp\u001b[0m \u001b[0;32mfor\u001b[0m \u001b[0mresp\u001b[0m \u001b[0;32min\u001b[0m \u001b[0mgen\u001b[0m\u001b[0;34m]\u001b[0m\u001b[0;34m\u001b[0m\u001b[0;34m\u001b[0m\u001b[0m\n\u001b[0m\u001b[1;32m    668\u001b[0m         \u001b[0;32melse\u001b[0m\u001b[0;34m:\u001b[0m\u001b[0;34m\u001b[0m\u001b[0;34m\u001b[0m\u001b[0m\n\u001b[1;32m    669\u001b[0m             \u001b[0mhistory\u001b[0m \u001b[0;34m=\u001b[0m \u001b[0;34m[\u001b[0m\u001b[0;34m]\u001b[0m\u001b[0;34m\u001b[0m\u001b[0;34m\u001b[0m\u001b[0m\n",
      "\u001b[0;32m~/Library/Python/3.8/lib/python/site-packages/requests/sessions.py\u001b[0m in \u001b[0;36m<listcomp>\u001b[0;34m(.0)\u001b[0m\n\u001b[1;32m    665\u001b[0m             \u001b[0;31m# Redirect resolving generator.\u001b[0m\u001b[0;34m\u001b[0m\u001b[0;34m\u001b[0m\u001b[0;34m\u001b[0m\u001b[0m\n\u001b[1;32m    666\u001b[0m             \u001b[0mgen\u001b[0m \u001b[0;34m=\u001b[0m \u001b[0mself\u001b[0m\u001b[0;34m.\u001b[0m\u001b[0mresolve_redirects\u001b[0m\u001b[0;34m(\u001b[0m\u001b[0mr\u001b[0m\u001b[0;34m,\u001b[0m \u001b[0mrequest\u001b[0m\u001b[0;34m,\u001b[0m \u001b[0;34m**\u001b[0m\u001b[0mkwargs\u001b[0m\u001b[0;34m)\u001b[0m\u001b[0;34m\u001b[0m\u001b[0;34m\u001b[0m\u001b[0m\n\u001b[0;32m--> 667\u001b[0;31m             \u001b[0mhistory\u001b[0m \u001b[0;34m=\u001b[0m \u001b[0;34m[\u001b[0m\u001b[0mresp\u001b[0m \u001b[0;32mfor\u001b[0m \u001b[0mresp\u001b[0m \u001b[0;32min\u001b[0m \u001b[0mgen\u001b[0m\u001b[0;34m]\u001b[0m\u001b[0;34m\u001b[0m\u001b[0;34m\u001b[0m\u001b[0m\n\u001b[0m\u001b[1;32m    668\u001b[0m         \u001b[0;32melse\u001b[0m\u001b[0;34m:\u001b[0m\u001b[0;34m\u001b[0m\u001b[0;34m\u001b[0m\u001b[0m\n\u001b[1;32m    669\u001b[0m             \u001b[0mhistory\u001b[0m \u001b[0;34m=\u001b[0m \u001b[0;34m[\u001b[0m\u001b[0;34m]\u001b[0m\u001b[0;34m\u001b[0m\u001b[0;34m\u001b[0m\u001b[0m\n",
      "\u001b[0;32m~/Library/Python/3.8/lib/python/site-packages/requests/sessions.py\u001b[0m in \u001b[0;36mresolve_redirects\u001b[0;34m(self, resp, req, stream, timeout, verify, cert, proxies, yield_requests, **adapter_kwargs)\u001b[0m\n\u001b[1;32m    235\u001b[0m             \u001b[0;32melse\u001b[0m\u001b[0;34m:\u001b[0m\u001b[0;34m\u001b[0m\u001b[0;34m\u001b[0m\u001b[0m\n\u001b[1;32m    236\u001b[0m \u001b[0;34m\u001b[0m\u001b[0m\n\u001b[0;32m--> 237\u001b[0;31m                 resp = self.send(\n\u001b[0m\u001b[1;32m    238\u001b[0m                     \u001b[0mreq\u001b[0m\u001b[0;34m,\u001b[0m\u001b[0;34m\u001b[0m\u001b[0;34m\u001b[0m\u001b[0m\n\u001b[1;32m    239\u001b[0m                     \u001b[0mstream\u001b[0m\u001b[0;34m=\u001b[0m\u001b[0mstream\u001b[0m\u001b[0;34m,\u001b[0m\u001b[0;34m\u001b[0m\u001b[0;34m\u001b[0m\u001b[0m\n",
      "\u001b[0;32m~/Library/Python/3.8/lib/python/site-packages/requests/sessions.py\u001b[0m in \u001b[0;36msend\u001b[0;34m(self, request, **kwargs)\u001b[0m\n\u001b[1;32m    643\u001b[0m \u001b[0;34m\u001b[0m\u001b[0m\n\u001b[1;32m    644\u001b[0m         \u001b[0;31m# Send the request\u001b[0m\u001b[0;34m\u001b[0m\u001b[0;34m\u001b[0m\u001b[0;34m\u001b[0m\u001b[0m\n\u001b[0;32m--> 645\u001b[0;31m         \u001b[0mr\u001b[0m \u001b[0;34m=\u001b[0m \u001b[0madapter\u001b[0m\u001b[0;34m.\u001b[0m\u001b[0msend\u001b[0m\u001b[0;34m(\u001b[0m\u001b[0mrequest\u001b[0m\u001b[0;34m,\u001b[0m \u001b[0;34m**\u001b[0m\u001b[0mkwargs\u001b[0m\u001b[0;34m)\u001b[0m\u001b[0;34m\u001b[0m\u001b[0;34m\u001b[0m\u001b[0m\n\u001b[0m\u001b[1;32m    646\u001b[0m \u001b[0;34m\u001b[0m\u001b[0m\n\u001b[1;32m    647\u001b[0m         \u001b[0;31m# Total elapsed time of the request (approximately)\u001b[0m\u001b[0;34m\u001b[0m\u001b[0;34m\u001b[0m\u001b[0;34m\u001b[0m\u001b[0m\n",
      "\u001b[0;32m~/Library/Python/3.8/lib/python/site-packages/requests/adapters.py\u001b[0m in \u001b[0;36msend\u001b[0;34m(self, request, stream, timeout, verify, cert, proxies)\u001b[0m\n\u001b[1;32m    438\u001b[0m         \u001b[0;32mtry\u001b[0m\u001b[0;34m:\u001b[0m\u001b[0;34m\u001b[0m\u001b[0;34m\u001b[0m\u001b[0m\n\u001b[1;32m    439\u001b[0m             \u001b[0;32mif\u001b[0m \u001b[0;32mnot\u001b[0m \u001b[0mchunked\u001b[0m\u001b[0;34m:\u001b[0m\u001b[0;34m\u001b[0m\u001b[0;34m\u001b[0m\u001b[0m\n\u001b[0;32m--> 440\u001b[0;31m                 resp = conn.urlopen(\n\u001b[0m\u001b[1;32m    441\u001b[0m                     \u001b[0mmethod\u001b[0m\u001b[0;34m=\u001b[0m\u001b[0mrequest\u001b[0m\u001b[0;34m.\u001b[0m\u001b[0mmethod\u001b[0m\u001b[0;34m,\u001b[0m\u001b[0;34m\u001b[0m\u001b[0;34m\u001b[0m\u001b[0m\n\u001b[1;32m    442\u001b[0m                     \u001b[0murl\u001b[0m\u001b[0;34m=\u001b[0m\u001b[0murl\u001b[0m\u001b[0;34m,\u001b[0m\u001b[0;34m\u001b[0m\u001b[0;34m\u001b[0m\u001b[0m\n",
      "\u001b[0;32m~/Library/Python/3.8/lib/python/site-packages/urllib3/connectionpool.py\u001b[0m in \u001b[0;36murlopen\u001b[0;34m(self, method, url, body, headers, retries, redirect, assert_same_host, timeout, pool_timeout, release_conn, chunked, body_pos, **response_kw)\u001b[0m\n\u001b[1;32m    701\u001b[0m \u001b[0;34m\u001b[0m\u001b[0m\n\u001b[1;32m    702\u001b[0m             \u001b[0;31m# Make the request on the httplib connection object.\u001b[0m\u001b[0;34m\u001b[0m\u001b[0;34m\u001b[0m\u001b[0;34m\u001b[0m\u001b[0m\n\u001b[0;32m--> 703\u001b[0;31m             httplib_response = self._make_request(\n\u001b[0m\u001b[1;32m    704\u001b[0m                 \u001b[0mconn\u001b[0m\u001b[0;34m,\u001b[0m\u001b[0;34m\u001b[0m\u001b[0;34m\u001b[0m\u001b[0m\n\u001b[1;32m    705\u001b[0m                 \u001b[0mmethod\u001b[0m\u001b[0;34m,\u001b[0m\u001b[0;34m\u001b[0m\u001b[0;34m\u001b[0m\u001b[0m\n",
      "\u001b[0;32m~/Library/Python/3.8/lib/python/site-packages/urllib3/connectionpool.py\u001b[0m in \u001b[0;36m_make_request\u001b[0;34m(self, conn, method, url, timeout, chunked, **httplib_request_kw)\u001b[0m\n\u001b[1;32m    447\u001b[0m                     \u001b[0;31m# Python 3 (including for exceptions like SystemExit).\u001b[0m\u001b[0;34m\u001b[0m\u001b[0;34m\u001b[0m\u001b[0;34m\u001b[0m\u001b[0m\n\u001b[1;32m    448\u001b[0m                     \u001b[0;31m# Otherwise it looks like a bug in the code.\u001b[0m\u001b[0;34m\u001b[0m\u001b[0;34m\u001b[0m\u001b[0;34m\u001b[0m\u001b[0m\n\u001b[0;32m--> 449\u001b[0;31m                     \u001b[0msix\u001b[0m\u001b[0;34m.\u001b[0m\u001b[0mraise_from\u001b[0m\u001b[0;34m(\u001b[0m\u001b[0me\u001b[0m\u001b[0;34m,\u001b[0m \u001b[0;32mNone\u001b[0m\u001b[0;34m)\u001b[0m\u001b[0;34m\u001b[0m\u001b[0;34m\u001b[0m\u001b[0m\n\u001b[0m\u001b[1;32m    450\u001b[0m         \u001b[0;32mexcept\u001b[0m \u001b[0;34m(\u001b[0m\u001b[0mSocketTimeout\u001b[0m\u001b[0;34m,\u001b[0m \u001b[0mBaseSSLError\u001b[0m\u001b[0;34m,\u001b[0m \u001b[0mSocketError\u001b[0m\u001b[0;34m)\u001b[0m \u001b[0;32mas\u001b[0m \u001b[0me\u001b[0m\u001b[0;34m:\u001b[0m\u001b[0;34m\u001b[0m\u001b[0;34m\u001b[0m\u001b[0m\n\u001b[1;32m    451\u001b[0m             \u001b[0mself\u001b[0m\u001b[0;34m.\u001b[0m\u001b[0m_raise_timeout\u001b[0m\u001b[0;34m(\u001b[0m\u001b[0merr\u001b[0m\u001b[0;34m=\u001b[0m\u001b[0me\u001b[0m\u001b[0;34m,\u001b[0m \u001b[0murl\u001b[0m\u001b[0;34m=\u001b[0m\u001b[0murl\u001b[0m\u001b[0;34m,\u001b[0m \u001b[0mtimeout_value\u001b[0m\u001b[0;34m=\u001b[0m\u001b[0mread_timeout\u001b[0m\u001b[0;34m)\u001b[0m\u001b[0;34m\u001b[0m\u001b[0;34m\u001b[0m\u001b[0m\n",
      "\u001b[0;32m~/Library/Python/3.8/lib/python/site-packages/urllib3/packages/six.py\u001b[0m in \u001b[0;36mraise_from\u001b[0;34m(value, from_value)\u001b[0m\n",
      "\u001b[0;32m~/Library/Python/3.8/lib/python/site-packages/urllib3/connectionpool.py\u001b[0m in \u001b[0;36m_make_request\u001b[0;34m(self, conn, method, url, timeout, chunked, **httplib_request_kw)\u001b[0m\n\u001b[1;32m    442\u001b[0m                 \u001b[0;31m# Python 3\u001b[0m\u001b[0;34m\u001b[0m\u001b[0;34m\u001b[0m\u001b[0;34m\u001b[0m\u001b[0m\n\u001b[1;32m    443\u001b[0m                 \u001b[0;32mtry\u001b[0m\u001b[0;34m:\u001b[0m\u001b[0;34m\u001b[0m\u001b[0;34m\u001b[0m\u001b[0m\n\u001b[0;32m--> 444\u001b[0;31m                     \u001b[0mhttplib_response\u001b[0m \u001b[0;34m=\u001b[0m \u001b[0mconn\u001b[0m\u001b[0;34m.\u001b[0m\u001b[0mgetresponse\u001b[0m\u001b[0;34m(\u001b[0m\u001b[0;34m)\u001b[0m\u001b[0;34m\u001b[0m\u001b[0;34m\u001b[0m\u001b[0m\n\u001b[0m\u001b[1;32m    445\u001b[0m                 \u001b[0;32mexcept\u001b[0m \u001b[0mBaseException\u001b[0m \u001b[0;32mas\u001b[0m \u001b[0me\u001b[0m\u001b[0;34m:\u001b[0m\u001b[0;34m\u001b[0m\u001b[0;34m\u001b[0m\u001b[0m\n\u001b[1;32m    446\u001b[0m                     \u001b[0;31m# Remove the TypeError from the exception chain in\u001b[0m\u001b[0;34m\u001b[0m\u001b[0;34m\u001b[0m\u001b[0;34m\u001b[0m\u001b[0m\n",
      "\u001b[0;32m/Library/Frameworks/Python.framework/Versions/3.8/lib/python3.8/http/client.py\u001b[0m in \u001b[0;36mgetresponse\u001b[0;34m(self)\u001b[0m\n\u001b[1;32m   1320\u001b[0m         \u001b[0;32mtry\u001b[0m\u001b[0;34m:\u001b[0m\u001b[0;34m\u001b[0m\u001b[0;34m\u001b[0m\u001b[0m\n\u001b[1;32m   1321\u001b[0m             \u001b[0;32mtry\u001b[0m\u001b[0;34m:\u001b[0m\u001b[0;34m\u001b[0m\u001b[0;34m\u001b[0m\u001b[0m\n\u001b[0;32m-> 1322\u001b[0;31m                 \u001b[0mresponse\u001b[0m\u001b[0;34m.\u001b[0m\u001b[0mbegin\u001b[0m\u001b[0;34m(\u001b[0m\u001b[0;34m)\u001b[0m\u001b[0;34m\u001b[0m\u001b[0;34m\u001b[0m\u001b[0m\n\u001b[0m\u001b[1;32m   1323\u001b[0m             \u001b[0;32mexcept\u001b[0m \u001b[0mConnectionError\u001b[0m\u001b[0;34m:\u001b[0m\u001b[0;34m\u001b[0m\u001b[0;34m\u001b[0m\u001b[0m\n\u001b[1;32m   1324\u001b[0m                 \u001b[0mself\u001b[0m\u001b[0;34m.\u001b[0m\u001b[0mclose\u001b[0m\u001b[0;34m(\u001b[0m\u001b[0;34m)\u001b[0m\u001b[0;34m\u001b[0m\u001b[0;34m\u001b[0m\u001b[0m\n",
      "\u001b[0;32m/Library/Frameworks/Python.framework/Versions/3.8/lib/python3.8/http/client.py\u001b[0m in \u001b[0;36mbegin\u001b[0;34m(self)\u001b[0m\n\u001b[1;32m    301\u001b[0m         \u001b[0;31m# read until we get a non-100 response\u001b[0m\u001b[0;34m\u001b[0m\u001b[0;34m\u001b[0m\u001b[0;34m\u001b[0m\u001b[0m\n\u001b[1;32m    302\u001b[0m         \u001b[0;32mwhile\u001b[0m \u001b[0;32mTrue\u001b[0m\u001b[0;34m:\u001b[0m\u001b[0;34m\u001b[0m\u001b[0;34m\u001b[0m\u001b[0m\n\u001b[0;32m--> 303\u001b[0;31m             \u001b[0mversion\u001b[0m\u001b[0;34m,\u001b[0m \u001b[0mstatus\u001b[0m\u001b[0;34m,\u001b[0m \u001b[0mreason\u001b[0m \u001b[0;34m=\u001b[0m \u001b[0mself\u001b[0m\u001b[0;34m.\u001b[0m\u001b[0m_read_status\u001b[0m\u001b[0;34m(\u001b[0m\u001b[0;34m)\u001b[0m\u001b[0;34m\u001b[0m\u001b[0;34m\u001b[0m\u001b[0m\n\u001b[0m\u001b[1;32m    304\u001b[0m             \u001b[0;32mif\u001b[0m \u001b[0mstatus\u001b[0m \u001b[0;34m!=\u001b[0m \u001b[0mCONTINUE\u001b[0m\u001b[0;34m:\u001b[0m\u001b[0;34m\u001b[0m\u001b[0;34m\u001b[0m\u001b[0m\n\u001b[1;32m    305\u001b[0m                 \u001b[0;32mbreak\u001b[0m\u001b[0;34m\u001b[0m\u001b[0;34m\u001b[0m\u001b[0m\n",
      "\u001b[0;32m/Library/Frameworks/Python.framework/Versions/3.8/lib/python3.8/http/client.py\u001b[0m in \u001b[0;36m_read_status\u001b[0;34m(self)\u001b[0m\n\u001b[1;32m    262\u001b[0m \u001b[0;34m\u001b[0m\u001b[0m\n\u001b[1;32m    263\u001b[0m     \u001b[0;32mdef\u001b[0m \u001b[0m_read_status\u001b[0m\u001b[0;34m(\u001b[0m\u001b[0mself\u001b[0m\u001b[0;34m)\u001b[0m\u001b[0;34m:\u001b[0m\u001b[0;34m\u001b[0m\u001b[0;34m\u001b[0m\u001b[0m\n\u001b[0;32m--> 264\u001b[0;31m         \u001b[0mline\u001b[0m \u001b[0;34m=\u001b[0m \u001b[0mstr\u001b[0m\u001b[0;34m(\u001b[0m\u001b[0mself\u001b[0m\u001b[0;34m.\u001b[0m\u001b[0mfp\u001b[0m\u001b[0;34m.\u001b[0m\u001b[0mreadline\u001b[0m\u001b[0;34m(\u001b[0m\u001b[0m_MAXLINE\u001b[0m \u001b[0;34m+\u001b[0m \u001b[0;36m1\u001b[0m\u001b[0;34m)\u001b[0m\u001b[0;34m,\u001b[0m \u001b[0;34m\"iso-8859-1\"\u001b[0m\u001b[0;34m)\u001b[0m\u001b[0;34m\u001b[0m\u001b[0;34m\u001b[0m\u001b[0m\n\u001b[0m\u001b[1;32m    265\u001b[0m         \u001b[0;32mif\u001b[0m \u001b[0mlen\u001b[0m\u001b[0;34m(\u001b[0m\u001b[0mline\u001b[0m\u001b[0;34m)\u001b[0m \u001b[0;34m>\u001b[0m \u001b[0m_MAXLINE\u001b[0m\u001b[0;34m:\u001b[0m\u001b[0;34m\u001b[0m\u001b[0;34m\u001b[0m\u001b[0m\n\u001b[1;32m    266\u001b[0m             \u001b[0;32mraise\u001b[0m \u001b[0mLineTooLong\u001b[0m\u001b[0;34m(\u001b[0m\u001b[0;34m\"status line\"\u001b[0m\u001b[0;34m)\u001b[0m\u001b[0;34m\u001b[0m\u001b[0;34m\u001b[0m\u001b[0m\n",
      "\u001b[0;32m/Library/Frameworks/Python.framework/Versions/3.8/lib/python3.8/socket.py\u001b[0m in \u001b[0;36mreadinto\u001b[0;34m(self, b)\u001b[0m\n\u001b[1;32m    667\u001b[0m         \u001b[0;32mwhile\u001b[0m \u001b[0;32mTrue\u001b[0m\u001b[0;34m:\u001b[0m\u001b[0;34m\u001b[0m\u001b[0;34m\u001b[0m\u001b[0m\n\u001b[1;32m    668\u001b[0m             \u001b[0;32mtry\u001b[0m\u001b[0;34m:\u001b[0m\u001b[0;34m\u001b[0m\u001b[0;34m\u001b[0m\u001b[0m\n\u001b[0;32m--> 669\u001b[0;31m                 \u001b[0;32mreturn\u001b[0m \u001b[0mself\u001b[0m\u001b[0;34m.\u001b[0m\u001b[0m_sock\u001b[0m\u001b[0;34m.\u001b[0m\u001b[0mrecv_into\u001b[0m\u001b[0;34m(\u001b[0m\u001b[0mb\u001b[0m\u001b[0;34m)\u001b[0m\u001b[0;34m\u001b[0m\u001b[0;34m\u001b[0m\u001b[0m\n\u001b[0m\u001b[1;32m    670\u001b[0m             \u001b[0;32mexcept\u001b[0m \u001b[0mtimeout\u001b[0m\u001b[0;34m:\u001b[0m\u001b[0;34m\u001b[0m\u001b[0;34m\u001b[0m\u001b[0m\n\u001b[1;32m    671\u001b[0m                 \u001b[0mself\u001b[0m\u001b[0;34m.\u001b[0m\u001b[0m_timeout_occurred\u001b[0m \u001b[0;34m=\u001b[0m \u001b[0;32mTrue\u001b[0m\u001b[0;34m\u001b[0m\u001b[0;34m\u001b[0m\u001b[0m\n",
      "\u001b[0;32m/Library/Frameworks/Python.framework/Versions/3.8/lib/python3.8/ssl.py\u001b[0m in \u001b[0;36mrecv_into\u001b[0;34m(self, buffer, nbytes, flags)\u001b[0m\n\u001b[1;32m   1239\u001b[0m                   \u001b[0;34m\"non-zero flags not allowed in calls to recv_into() on %s\"\u001b[0m \u001b[0;34m%\u001b[0m\u001b[0;34m\u001b[0m\u001b[0;34m\u001b[0m\u001b[0m\n\u001b[1;32m   1240\u001b[0m                   self.__class__)\n\u001b[0;32m-> 1241\u001b[0;31m             \u001b[0;32mreturn\u001b[0m \u001b[0mself\u001b[0m\u001b[0;34m.\u001b[0m\u001b[0mread\u001b[0m\u001b[0;34m(\u001b[0m\u001b[0mnbytes\u001b[0m\u001b[0;34m,\u001b[0m \u001b[0mbuffer\u001b[0m\u001b[0;34m)\u001b[0m\u001b[0;34m\u001b[0m\u001b[0;34m\u001b[0m\u001b[0m\n\u001b[0m\u001b[1;32m   1242\u001b[0m         \u001b[0;32melse\u001b[0m\u001b[0;34m:\u001b[0m\u001b[0;34m\u001b[0m\u001b[0;34m\u001b[0m\u001b[0m\n\u001b[1;32m   1243\u001b[0m             \u001b[0;32mreturn\u001b[0m \u001b[0msuper\u001b[0m\u001b[0;34m(\u001b[0m\u001b[0;34m)\u001b[0m\u001b[0;34m.\u001b[0m\u001b[0mrecv_into\u001b[0m\u001b[0;34m(\u001b[0m\u001b[0mbuffer\u001b[0m\u001b[0;34m,\u001b[0m \u001b[0mnbytes\u001b[0m\u001b[0;34m,\u001b[0m \u001b[0mflags\u001b[0m\u001b[0;34m)\u001b[0m\u001b[0;34m\u001b[0m\u001b[0;34m\u001b[0m\u001b[0m\n",
      "\u001b[0;32m/Library/Frameworks/Python.framework/Versions/3.8/lib/python3.8/ssl.py\u001b[0m in \u001b[0;36mread\u001b[0;34m(self, len, buffer)\u001b[0m\n\u001b[1;32m   1097\u001b[0m         \u001b[0;32mtry\u001b[0m\u001b[0;34m:\u001b[0m\u001b[0;34m\u001b[0m\u001b[0;34m\u001b[0m\u001b[0m\n\u001b[1;32m   1098\u001b[0m             \u001b[0;32mif\u001b[0m \u001b[0mbuffer\u001b[0m \u001b[0;32mis\u001b[0m \u001b[0;32mnot\u001b[0m \u001b[0;32mNone\u001b[0m\u001b[0;34m:\u001b[0m\u001b[0;34m\u001b[0m\u001b[0;34m\u001b[0m\u001b[0m\n\u001b[0;32m-> 1099\u001b[0;31m                 \u001b[0;32mreturn\u001b[0m \u001b[0mself\u001b[0m\u001b[0;34m.\u001b[0m\u001b[0m_sslobj\u001b[0m\u001b[0;34m.\u001b[0m\u001b[0mread\u001b[0m\u001b[0;34m(\u001b[0m\u001b[0mlen\u001b[0m\u001b[0;34m,\u001b[0m \u001b[0mbuffer\u001b[0m\u001b[0;34m)\u001b[0m\u001b[0;34m\u001b[0m\u001b[0;34m\u001b[0m\u001b[0m\n\u001b[0m\u001b[1;32m   1100\u001b[0m             \u001b[0;32melse\u001b[0m\u001b[0;34m:\u001b[0m\u001b[0;34m\u001b[0m\u001b[0;34m\u001b[0m\u001b[0m\n\u001b[1;32m   1101\u001b[0m                 \u001b[0;32mreturn\u001b[0m \u001b[0mself\u001b[0m\u001b[0;34m.\u001b[0m\u001b[0m_sslobj\u001b[0m\u001b[0;34m.\u001b[0m\u001b[0mread\u001b[0m\u001b[0;34m(\u001b[0m\u001b[0mlen\u001b[0m\u001b[0;34m)\u001b[0m\u001b[0;34m\u001b[0m\u001b[0;34m\u001b[0m\u001b[0m\n",
      "\u001b[0;31mKeyboardInterrupt\u001b[0m: "
     ]
    }
   ],
   "source": [
    "# Iterate over the titles; store the title and page content in the DataFrame\n",
    "for title in titles: \n",
    "    bytes_ = title.encode(\"UTF-8\")                  # get the bytes representation of the string\n",
    "    index = hashlib.sha1(bytes_).hexdigest()        # get the hash-value of the title\n",
    "    index = index[:10]                              # truncate the hash-value\n",
    "\n",
    "    # Get the content of the article \n",
    "    try: \n",
    "        page_content = wiki.page(title, auto_suggest=False).content\n",
    "\n",
    "        # Store the article contents in the DataFrame\n",
    "        pages_df.at[index] = [title, page_content] \n",
    "\n",
    "    except Exception:\n",
    "        print(title)"
   ]
  },
  {
   "cell_type": "code",
   "execution_count": 62,
   "metadata": {},
   "outputs": [
    {
     "data": {
      "text/html": [
       "<div>\n",
       "<style scoped>\n",
       "    .dataframe tbody tr th:only-of-type {\n",
       "        vertical-align: middle;\n",
       "    }\n",
       "\n",
       "    .dataframe tbody tr th {\n",
       "        vertical-align: top;\n",
       "    }\n",
       "\n",
       "    .dataframe thead th {\n",
       "        text-align: right;\n",
       "    }\n",
       "</style>\n",
       "<table border=\"1\" class=\"dataframe\">\n",
       "  <thead>\n",
       "    <tr style=\"text-align: right;\">\n",
       "      <th></th>\n",
       "      <th>hash_id</th>\n",
       "      <th>title</th>\n",
       "      <th>content</th>\n",
       "    </tr>\n",
       "  </thead>\n",
       "  <tbody>\n",
       "    <tr>\n",
       "      <th>0</th>\n",
       "      <td>f511669021</td>\n",
       "      <td>LeBron James</td>\n",
       "      <td>LeBron Raymone James Sr. (; born December 30, ...</td>\n",
       "    </tr>\n",
       "    <tr>\n",
       "      <th>1</th>\n",
       "      <td>972d8cef69</td>\n",
       "      <td>Bronny James</td>\n",
       "      <td>LeBron Raymone \"Bronny\" James Jr. (born Octobe...</td>\n",
       "    </tr>\n",
       "    <tr>\n",
       "      <th>2</th>\n",
       "      <td>8c49e82d2b</td>\n",
       "      <td>List of career achievements by LeBron James</td>\n",
       "      <td>This article lists career accomplishments of t...</td>\n",
       "    </tr>\n",
       "    <tr>\n",
       "      <th>3</th>\n",
       "      <td>63d7179994</td>\n",
       "      <td>The LeBrons</td>\n",
       "      <td>The LeBrons are a mock family of American bask...</td>\n",
       "    </tr>\n",
       "    <tr>\n",
       "      <th>4</th>\n",
       "      <td>3c5cbe5536</td>\n",
       "      <td>House Party (2023 film)</td>\n",
       "      <td>House Party is a 2023 American comedy film dir...</td>\n",
       "    </tr>\n",
       "    <tr>\n",
       "      <th>...</th>\n",
       "      <td>...</td>\n",
       "      <td>...</td>\n",
       "      <td>...</td>\n",
       "    </tr>\n",
       "    <tr>\n",
       "      <th>94</th>\n",
       "      <td>6244391904</td>\n",
       "      <td>2012–13 NBA season</td>\n",
       "      <td>The 2012–13 NBA season was the 67th season of ...</td>\n",
       "    </tr>\n",
       "    <tr>\n",
       "      <th>95</th>\n",
       "      <td>13e226c1bc</td>\n",
       "      <td>2010–11 NBA season</td>\n",
       "      <td>The 2010–11 NBA season was the 65th season of ...</td>\n",
       "    </tr>\n",
       "    <tr>\n",
       "      <th>96</th>\n",
       "      <td>046ffd1913</td>\n",
       "      <td>Dwyane Wade</td>\n",
       "      <td>Dwyane Tyrone Wade Jr. ( or ; born January 17,...</td>\n",
       "    </tr>\n",
       "    <tr>\n",
       "      <th>97</th>\n",
       "      <td>3509aba5a6</td>\n",
       "      <td>Scottie Pippen</td>\n",
       "      <td>Scotty Maurice Pippen Sr. (born September 25, ...</td>\n",
       "    </tr>\n",
       "    <tr>\n",
       "      <th>98</th>\n",
       "      <td>68a870da81</td>\n",
       "      <td>2014 NBA playoffs</td>\n",
       "      <td>The 2014 NBA playoffs was the postseason tourn...</td>\n",
       "    </tr>\n",
       "  </tbody>\n",
       "</table>\n",
       "<p>99 rows × 3 columns</p>\n",
       "</div>"
      ],
      "text/plain": [
       "       hash_id                                        title  \\\n",
       "0   f511669021                                 LeBron James   \n",
       "1   972d8cef69                                 Bronny James   \n",
       "2   8c49e82d2b  List of career achievements by LeBron James   \n",
       "3   63d7179994                                  The LeBrons   \n",
       "4   3c5cbe5536                      House Party (2023 film)   \n",
       "..         ...                                          ...   \n",
       "94  6244391904                           2012–13 NBA season   \n",
       "95  13e226c1bc                           2010–11 NBA season   \n",
       "96  046ffd1913                                  Dwyane Wade   \n",
       "97  3509aba5a6                               Scottie Pippen   \n",
       "98  68a870da81                            2014 NBA playoffs   \n",
       "\n",
       "                                              content  \n",
       "0   LeBron Raymone James Sr. (; born December 30, ...  \n",
       "1   LeBron Raymone \"Bronny\" James Jr. (born Octobe...  \n",
       "2   This article lists career accomplishments of t...  \n",
       "3   The LeBrons are a mock family of American bask...  \n",
       "4   House Party is a 2023 American comedy film dir...  \n",
       "..                                                ...  \n",
       "94  The 2012–13 NBA season was the 67th season of ...  \n",
       "95  The 2010–11 NBA season was the 65th season of ...  \n",
       "96  Dwyane Tyrone Wade Jr. ( or ; born January 17,...  \n",
       "97  Scotty Maurice Pippen Sr. (born September 25, ...  \n",
       "98  The 2014 NBA playoffs was the postseason tourn...  \n",
       "\n",
       "[99 rows x 3 columns]"
      ]
     },
     "execution_count": 62,
     "metadata": {},
     "output_type": "execute_result"
    }
   ],
   "source": [
    "pages_df"
   ]
  },
  {
   "cell_type": "code",
   "execution_count": 52,
   "metadata": {},
   "outputs": [],
   "source": [
    "# pages_df.to_csv(\"lebron_james.csv\", index=True, index_label=\"hash_id\")"
   ]
  },
  {
   "attachments": {},
   "cell_type": "markdown",
   "metadata": {},
   "source": [
    "# Data Analysis"
   ]
  },
  {
   "attachments": {},
   "cell_type": "markdown",
   "metadata": {},
   "source": [
    "## Semantic Analysis"
   ]
  },
  {
   "cell_type": "code",
   "execution_count": 6,
   "metadata": {},
   "outputs": [
    {
     "data": {
      "text/plain": [
       "Ellipsis"
      ]
     },
     "execution_count": 6,
     "metadata": {},
     "output_type": "execute_result"
    }
   ],
   "source": [
    "..."
   ]
  },
  {
   "attachments": {},
   "cell_type": "markdown",
   "metadata": {},
   "source": [
    "## Graph construction"
   ]
  },
  {
   "cell_type": "code",
   "execution_count": 7,
   "metadata": {},
   "outputs": [
    {
     "data": {
      "text/plain": [
       "Ellipsis"
      ]
     },
     "execution_count": 7,
     "metadata": {},
     "output_type": "execute_result"
    }
   ],
   "source": [
    "..."
   ]
  }
 ],
 "metadata": {
  "kernelspec": {
   "display_name": "Python 3",
   "language": "python",
   "name": "python3"
  },
  "language_info": {
   "codemirror_mode": {
    "name": "ipython",
    "version": 3
   },
   "file_extension": ".py",
   "mimetype": "text/x-python",
   "name": "python",
   "nbconvert_exporter": "python",
   "pygments_lexer": "ipython3",
   "version": "3.8.2"
  },
  "orig_nbformat": 4,
  "vscode": {
   "interpreter": {
    "hash": "5c7b89af1651d0b8571dde13640ecdccf7d5a6204171d6ab33e7c296e100e08a"
   }
  }
 },
 "nbformat": 4,
 "nbformat_minor": 2
}
